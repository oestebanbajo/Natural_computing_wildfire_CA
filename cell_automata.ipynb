{
  "nbformat": 4,
  "nbformat_minor": 0,
  "metadata": {
    "colab": {
      "name": "cell_automata.ipynb",
      "provenance": [],
      "collapsed_sections": []
    },
    "kernelspec": {
      "name": "python3",
      "display_name": "Python 3"
    },
    "language_info": {
      "name": "python"
    },
    "gpuClass": "standard"
  },
  "cells": [
    {
      "cell_type": "markdown",
      "source": [
        "# Cellular automata for controlled fires"
      ],
      "metadata": {
        "id": "jOuM8JHyV9f0"
      }
    },
    {
      "cell_type": "code",
      "execution_count": null,
      "metadata": {
        "id": "-zQxmDsDpMo_"
      },
      "outputs": [],
      "source": [
        "# import libraries\n",
        "import numpy as np\n",
        "import matplotlib.pyplot as plt\n",
        "import matplotlib.animation as animation\n",
        "import matplotlib.colors as colors\n",
        "from matplotlib import cm\n",
        "import random\n",
        "\n",
        "# ignore warnings\n",
        "import warnings\n",
        "warnings.filterwarnings(\"ignore\")\n",
        "\n",
        "np.random.seed(0) "
      ]
    },
    {
      "cell_type": "markdown",
      "source": [
        "##Utils"
      ],
      "metadata": {
        "id": "-DCw-mpVa839"
      }
    },
    {
      "cell_type": "code",
      "source": [
        "def visualize_state(matrix):\n",
        "  ax = plt.axes()\n",
        "  ax.set_axis_off()\n",
        "\n",
        "  custom_map = [[1,1,1,0], #white\n",
        "                [1,0.6,0,1], #orange\n",
        "                [1,0,0,1], #red\n",
        "                [0.6,0.6,0.6,1], #gray\n",
        "                [0,0,0,1]] #black \n",
        "  greens_ = cm.get_cmap('Greens', 8)\n",
        "  greens =[greens_(0.2), \n",
        "          greens_(0.4),\n",
        "          greens_(0.6), \n",
        "          greens_(0.8), \n",
        "          greens_(0.99)] \n",
        "\n",
        "  im1 = ax.imshow(matrix[1,:,:], interpolation='none',cmap=colors.ListedColormap(greens))\n",
        "  im2 = ax.imshow(matrix[0,:,:], interpolation='none',cmap=colors.ListedColormap(custom_map)) #RdPu\n",
        "  plt.show()\n"
      ],
      "metadata": {
        "id": "OtFjWN0GgFJz"
      },
      "execution_count": null,
      "outputs": []
    },
    {
      "cell_type": "code",
      "source": [
        "def distance(radio, size, coor):\n",
        "    \"\"\"\n",
        "    input: the radio, the size of the latice, and the cell to calculate the neighboorhood\n",
        "    output: the coordinates of the neighbouring cells\n",
        "\n",
        "    This function calculates the cells in the Moore neighborhood of radius r of a given cell. \n",
        "    Is important to notice that this does not include the cel in for example the first an second neighborhood \n",
        "    when calculation the third one. \n",
        "    \"\"\"\n",
        "    assert 1 <= radio <= 3\n",
        "    r = radio\n",
        "    size = size\n",
        "    coordinate = coor\n",
        "\n",
        "    neigh_i = []\n",
        "    neigh_j = []\n",
        "\n",
        "    for i in range(-radio, radio + 1):\n",
        "      for j in range(-radio, radio + 1):\n",
        "        if (i+coordinate[0])>=0 and (i+coordinate[0])< size and (j+coordinate[1])>=0 and (j+coordinate[1])< size and (i != 0 or j != 0):\n",
        "          neigh_i.append(i+coordinate[0])\n",
        "          neigh_j.append(j+coordinate[1])\n",
        "    return [neigh_i, neigh_j]\n"
      ],
      "metadata": {
        "id": "jqXjfnMcag75"
      },
      "execution_count": null,
      "outputs": []
    },
    {
      "cell_type": "markdown",
      "source": [
        "## Parameters\n",
        "\n",
        "### Cell states:\n",
        "0 - Unburned vegetation\n",
        "1 - Ignited vegetation\n",
        "2 - Burning vegetation\n",
        "3 - Ash\n",
        "4 - Bare Soil\n",
        "\n",
        "### Vegetation density\n",
        "0 - 4 not dense to very dense\n",
        "\n",
        "### Humidity\n",
        "3 rates\n",
        "* dry \n",
        "* wet\n",
        "* very wet\n",
        "\n",
        "### Duration of burning\n",
        "T depends on the vegetation density and the humidity, as the humidity increases the burning rate increases too."
      ],
      "metadata": {
        "id": "4ozbOzxzcuio"
      }
    },
    {
      "cell_type": "markdown",
      "source": [
        "## Matrix initialization"
      ],
      "metadata": {
        "id": "gJzkt2XbXD0v"
      }
    },
    {
      "cell_type": "code",
      "source": [
        "def matrix_build(matrix, size, veg, hum):\n",
        "# Initial construction\n",
        "    matrix[0,:,:] = np.zeros(shape = (size, size))\n",
        "\n",
        "    #relative humidity using normal distribution centered in 53 \n",
        "    #mu_hum, sigma = 53, 17\n",
        "    #hum = np.random.normal(mu_hum, sigma)\n",
        "\n",
        "    #veg = np.random.choice(['low','mid','high'], p=[0.25, 0.42, 0.33])\n",
        "\n",
        "    if hum<40: #if low RH then low humidity of the soil\n",
        "        for i in range(size):\n",
        "            for j in range(size):\n",
        "                if veg =='low':\n",
        "                    matrix[2,i,j] = 0 #humidity\n",
        "                    matrix[1,i,j] = np.random.choice([random.choice([0,1]),2,3], p=[0.5, 0.2, 0.3])  #vegetation\n",
        "                elif veg == 'mid':\n",
        "                    matrix[2,i,j] = random.choice([0,1]) #humidity\n",
        "                    matrix[1,i,j] = np.random.choice([random.choice([2,3]),1,4], p=[0.7, 0.15, 0.15]) \n",
        "                else:\n",
        "                    matrix[2,i,j] = 1 #humidity\n",
        "                    matrix[1,i,j] = np.random.choice([4, 3], p=[0.7, 0.3]) \n",
        "\n",
        "    elif hum>=40 and hum<60:\n",
        "        for i in range(size):\n",
        "            for j in range(size):\n",
        "                if veg =='low':\n",
        "                    matrix[2,i,j] = random.choice([0,1]) #humidity\n",
        "                    matrix[1,i,j] = np.random.choice([random.choice([0,1]),2], p=[0.75, 0.25])  #vegetation\n",
        "                elif veg == 'mid':\n",
        "                    matrix[2,i,j] = random.choice([1,2]) #humidity\n",
        "                    matrix[1,i,j] = np.random.choice([random.choice([2,3]),1,4], p=[0.5, 0.15, 0.35]) \n",
        "                else:\n",
        "                    matrix[2,i,j] = random.choice([1,2]) #humidity\n",
        "                    matrix[1,i,j] = np.random.choice([4, 3], p=[0.7, 0.3]) \n",
        " \n",
        "    elif hum>=60:\n",
        "        for i in range(size):\n",
        "            for j in range(size):\n",
        "                if veg =='low':\n",
        "                    matrix[2,i,j] = 1 #humidity\n",
        "                    matrix[1,i,j] = np.random.choice([random.choice([0,1]),2], p=[0.75, 0.25])  #vegetation\n",
        "                elif veg == 'mid':\n",
        "                    matrix[2,i,j] = random.choice([1,2])#humidity\n",
        "                    matrix[1,i,j] = np.random.choice([random.choice([2,3]),1,4], p=[0.7, 0.15, 0.15]) \n",
        "                else:\n",
        "                    matrix[2,i,j] = random.choice([1,2]) #humidity\n",
        "                    matrix[1,i,j] = np.random.choice([4, 3], p=[0.7, 0.3])\n",
        "    return matrix"
      ],
      "metadata": {
        "id": "lOq7dNL6zzBF"
      },
      "execution_count": null,
      "outputs": []
    },
    {
      "cell_type": "markdown",
      "source": [
        "## Step function"
      ],
      "metadata": {
        "id": "unBUQKVjXLX5"
      }
    },
    {
      "cell_type": "code",
      "source": [
        "# propagation probs depending on the neighbours on fire\n",
        "fire_probs = [0, 0.5, 0.65, 0.75, 0.8, 0.9, 0.95, 0.98, 1]\n",
        "\n",
        "def transition_times_2_3(density, alpha):\n",
        "  '''\n",
        "  Determines the time steps to take froms state 2 to 3\n",
        "  '''\n",
        "  return (alpha+1)*(density+1)\n",
        "\n",
        "\n",
        "def step(matrix, Tfire):\n",
        "  '''\n",
        "  update the cell\n",
        "  '''\n",
        "  size = matrix.shape[1]  #was missing the var size\n",
        "  old_states = np.copy(matrix[0,:,:])\n",
        "  old_humidity = np.copy(matrix[2,:,:])\n",
        "\n",
        "  # from state 0 to 1:\n",
        "  for i in range(size):\n",
        "      for j in range(size):\n",
        "        neighs = distance(1, size, [i,j])\n",
        "        neighs_fires = old_states[neighs[0], neighs[1]]\n",
        "        if (matrix[1,i,j] != 0) and (np.random.rand() < fire_probs[int(np.count_nonzero(neighs_fires == 1))]) and (old_humidity[i,j] < 2) and (old_states[i,j] == 0): #(any(neighs_fires == 1))\n",
        "          matrix[0,i,j] = 1\n",
        "          #print('0 to 1')\n",
        "          Tfire[i,j] = transition_times_2_3(matrix[1,i,j], old_humidity[i,j]) #determine Tfire of the cell: change?\n",
        "\n",
        "        #from state 1 to 2:\n",
        "        elif old_states[i,j] == 1:\n",
        "          matrix[0,i,j] = 2\n",
        "\n",
        "        #from state 2 to 3: if Tfire of a cell 2 is 0, go to state 3\n",
        "        elif old_states[i,j] == 2 and Tfire[i,j] == 0:\n",
        "          matrix[0,i,j] = 3\n",
        "\n",
        "        #from state 3 to 4:\n",
        "        elif old_states[i,j] == 3:\n",
        "          matrix[0,i,j] = 4\n",
        "        \n",
        "        #random jump: if vegetation is very dense\n",
        "        if np.random.rand() < 0.1 and matrix[1,i,j] == 4 and old_states[i,j] == 2:\n",
        "          rand_coor = np.random.randint(-10, 10, size=2) + [i,j]\n",
        "          if all(rand_coor > 0) and all(rand_coor < size):\n",
        "            if matrix[1, rand_coor[0], rand_coor[1]] > 0 and old_states[ rand_coor[0], rand_coor[1]] == 0: \n",
        "              matrix[0,rand_coor[0], rand_coor[1]] = 1\n",
        "        \n",
        "        # update humidity: if it is 2 and a neighbour is on fire, set to 1\n",
        "        if (any(old_states[neighs[0], neighs[1]] == 1)) and old_humidity[i,j] == 2: #add also neighbour with fire 2?\n",
        "          matrix[2,i,j] = 1\n",
        "\n",
        "\n",
        "  #update params\n",
        "  Tfire = np.clip(Tfire - 1, 0, None) # update Tfire\n",
        "  \n",
        "  return matrix, Tfire"
      ],
      "metadata": {
        "id": "5X5_qFoRVQpO"
      },
      "execution_count": null,
      "outputs": []
    },
    {
      "cell_type": "markdown",
      "source": [
        "## Build and call CA"
      ],
      "metadata": {
        "id": "XXqclxMFXRrY"
      }
    },
    {
      "cell_type": "code",
      "source": [
        "def count_veg(mat): # used to count the cells with vegetation and burned cells\n",
        "  count = 0\n",
        "  for row in mat:\n",
        "    count += np.count_nonzero(row > 0)\n",
        "  return count\n",
        "\n",
        "def cell_automata(size, steps, epochs, veg, hum, show_im = 0):\n",
        "  #init parameters\n",
        "  '''\n",
        "  Matrix contains:\n",
        "  0) cell state: 5 states (int)\n",
        "  1) vegetation density: 5 states, from nothing to very dense (int) (TEMP)\n",
        "  2) humidity: 3 rates (int)\n",
        "  '''\n",
        "  num_params = 3\n",
        "  matrix = np.zeros(shape = (num_params, size, size))\n",
        "    \n",
        "  x = np.zeros(shape = (epochs, steps, size, size)) # save results\n",
        "  num_veg = []\n",
        "\n",
        "  for epoch in range(epochs):\n",
        "    print(f'Running epoch {epoch+1}')\n",
        "    #reset matrix and Tfire\n",
        "    Tfire = np.zeros(shape = (size, size))\n",
        "    matrix = matrix_build(matrix, size, veg, hum)\n",
        "    num_veg.append(count_veg(matrix[1,:,:]))\n",
        "\n",
        "    #init random fire\n",
        "    ind = np.where(matrix[1,:,:] != 0)\n",
        "    ran = np.random.randint(len(ind[0]))\n",
        "    matrix[0,ind[0][ran],ind[1][ran]] = 1\n",
        "\n",
        "    #step\n",
        "    for i in range(steps):\n",
        "      matrix, Tfire = step(matrix,Tfire)\n",
        "      x[epoch,i,:,:] = np.copy(matrix[0,:,:])\n",
        "      if show_im != 0:\n",
        "        if i%show_im == 0:\n",
        "          print(f'\\n{i}/{steps}:')\n",
        "          visualize_state(matrix)\n",
        "\n",
        "  return x, num_veg\n",
        "\n",
        "epochs = 20\n",
        "size = 100#350 #cell size\n",
        "steps = 250#600\n",
        "veg = 'high'\n",
        "hum = 50 #20, 50, 70\n",
        "\n",
        "x, num_veg = cell_automata(size, steps, epochs, veg, hum, show_im = 20)\n",
        "np.save(f'array_veg_{veg}_hum_{hum}.npy', x)\n",
        "#np.save(f'numveg_veg_{veg}_hum_{hum}.npy', num_veg)"
      ],
      "metadata": {
        "id": "3Nu-noRPvBBR",
        "colab": {
          "base_uri": "https://localhost:8080/",
          "height": 1000
        },
        "outputId": "8c63d3b9-05b3-4990-b73d-adce75bb5cb8"
      },
      "execution_count": null,
      "outputs": [
        {
          "output_type": "stream",
          "name": "stdout",
          "text": [
            "Running epoch 1\n",
            "\n",
            "0/250:\n"
          ]
        },
        {
          "output_type": "display_data",
          "data": {
            "text/plain": [
              "<Figure size 432x288 with 1 Axes>"
            ],
            "image/png": "[encoded data removed]"
          },
          "metadata": {
            "needs_background": "light"
          }
        },
        {
          "output_type": "stream",
          "name": "stdout",
          "text": [
            "\n",
            "20/250:\n"
          ]
        },
        {
          "output_type": "display_data",
          "data": {
            "text/plain": [
              "<Figure size 432x288 with 1 Axes>"
            ],
            "image/png": "[encoded data removed]"
          },
          "metadata": {
            "needs_background": "light"
          }
        },
        {
          "output_type": "stream",
          "name": "stdout",
          "text": [
            "\n",
            "40/250:\n"
          ]
        },
        {
          "output_type": "display_data",
          "data": {
            "text/plain": [
              "<Figure size 432x288 with 1 Axes>"
            ],
            "image/png": "[encoded data removed]"
          },
          "metadata": {
            "needs_background": "light"
          }
        },
        {
          "output_type": "stream",
          "name": "stdout",
          "text": [
            "\n",
            "60/250:\n"
          ]
        },
        {
          "output_type": "display_data",
          "data": {
            "text/plain": [
              "<Figure size 432x288 with 1 Axes>"
            ],
            "image/png": "[encoded data removed]"
          },
          "metadata": {
            "needs_background": "light"
          }
        },
        {
          "output_type": "stream",
          "name": "stdout",
          "text": [
            "\n",
            "80/250:\n"
          ]
        },
        {
          "output_type": "display_data",
          "data": {
            "text/plain": [
              "<Figure size 432x288 with 1 Axes>"
            ],
            "image/png": "[encoded data removed]"
          },
          "metadata": {
            "needs_background": "light"
          }
        },
        {
          "output_type": "stream",
          "name": "stdout",
          "text": [
            "\n",
            "100/250:\n"
          ]
        },
        {
          "output_type": "display_data",
          "data": {
            "text/plain": [
              "<Figure size 432x288 with 1 Axes>"
            ],
            "image/png": "[encoded data removed]"
          },
          "metadata": {
            "needs_background": "light"
          }
        },
        {
          "output_type": "stream",
          "name": "stdout",
          "text": [
            "\n",
            "120/250:\n"
          ]
        },
        {
          "output_type": "display_data",
          "data": {
            "text/plain": [
              "<Figure size 432x288 with 1 Axes>"
            ],
            "image/png": "[encoded data removed]"
          },
          "metadata": {
            "needs_background": "light"
          }
        },
        {
          "output_type": "stream",
          "name": "stdout",
          "text": [
            "\n",
            "140/250:\n"
          ]
        },
        {
          "output_type": "error",
          "ename": "KeyboardInterrupt",
          "evalue": "ignored",
          "traceback": [
            "\u001b[0;31m---------------------------------------------------------------------------\u001b[0m",
            "\u001b[0;31mKeyboardInterrupt\u001b[0m                         Traceback (most recent call last)",
            "\u001b[0;32m<ipython-input-57-727185ca2d17>\u001b[0m in \u001b[0;36m<module>\u001b[0;34m()\u001b[0m\n\u001b[1;32m     48\u001b[0m \u001b[0mhum\u001b[0m \u001b[0;34m=\u001b[0m \u001b[0;36m50\u001b[0m \u001b[0;31m#20, 50, 70\u001b[0m\u001b[0;34m\u001b[0m\u001b[0;34m\u001b[0m\u001b[0m\n\u001b[1;32m     49\u001b[0m \u001b[0;34m\u001b[0m\u001b[0m\n\u001b[0;32m---> 50\u001b[0;31m \u001b[0mx\u001b[0m\u001b[0;34m,\u001b[0m \u001b[0mnum_veg\u001b[0m \u001b[0;34m=\u001b[0m \u001b[0mcell_automata\u001b[0m\u001b[0;34m(\u001b[0m\u001b[0msize\u001b[0m\u001b[0;34m,\u001b[0m \u001b[0msteps\u001b[0m\u001b[0;34m,\u001b[0m \u001b[0mepochs\u001b[0m\u001b[0;34m,\u001b[0m \u001b[0mveg\u001b[0m\u001b[0;34m,\u001b[0m \u001b[0mhum\u001b[0m\u001b[0;34m,\u001b[0m \u001b[0mshow_im\u001b[0m \u001b[0;34m=\u001b[0m \u001b[0;36m20\u001b[0m\u001b[0;34m)\u001b[0m\u001b[0;34m\u001b[0m\u001b[0;34m\u001b[0m\u001b[0m\n\u001b[0m\u001b[1;32m     51\u001b[0m \u001b[0mnp\u001b[0m\u001b[0;34m.\u001b[0m\u001b[0msave\u001b[0m\u001b[0;34m(\u001b[0m\u001b[0;34mf'array_veg_{veg}_hum_{hum}.npy'\u001b[0m\u001b[0;34m,\u001b[0m \u001b[0mx\u001b[0m\u001b[0;34m)\u001b[0m\u001b[0;34m\u001b[0m\u001b[0;34m\u001b[0m\u001b[0m\n\u001b[1;32m     52\u001b[0m \u001b[0;31m#np.save(f'numveg_veg_{veg}_hum_{hum}.npy', num_veg)\u001b[0m\u001b[0;34m\u001b[0m\u001b[0;34m\u001b[0m\u001b[0;34m\u001b[0m\u001b[0m\n",
            "\u001b[0;32m<ipython-input-57-727185ca2d17>\u001b[0m in \u001b[0;36mcell_automata\u001b[0;34m(size, steps, epochs, veg, hum, show_im)\u001b[0m\n\u001b[1;32m     38\u001b[0m         \u001b[0;32mif\u001b[0m \u001b[0mi\u001b[0m\u001b[0;34m%\u001b[0m\u001b[0mshow_im\u001b[0m \u001b[0;34m==\u001b[0m \u001b[0;36m0\u001b[0m\u001b[0;34m:\u001b[0m\u001b[0;34m\u001b[0m\u001b[0;34m\u001b[0m\u001b[0m\n\u001b[1;32m     39\u001b[0m           \u001b[0mprint\u001b[0m\u001b[0;34m(\u001b[0m\u001b[0;34mf'\\n{i}/{steps}:'\u001b[0m\u001b[0;34m)\u001b[0m\u001b[0;34m\u001b[0m\u001b[0;34m\u001b[0m\u001b[0m\n\u001b[0;32m---> 40\u001b[0;31m           \u001b[0mvisualize_state\u001b[0m\u001b[0;34m(\u001b[0m\u001b[0mmatrix\u001b[0m\u001b[0;34m)\u001b[0m\u001b[0;34m\u001b[0m\u001b[0;34m\u001b[0m\u001b[0m\n\u001b[0m\u001b[1;32m     41\u001b[0m \u001b[0;34m\u001b[0m\u001b[0m\n\u001b[1;32m     42\u001b[0m   \u001b[0;32mreturn\u001b[0m \u001b[0mx\u001b[0m\u001b[0;34m,\u001b[0m \u001b[0mnum_veg\u001b[0m\u001b[0;34m\u001b[0m\u001b[0;34m\u001b[0m\u001b[0m\n",
            "\u001b[0;32m<ipython-input-52-fd9ef993a7bb>\u001b[0m in \u001b[0;36mvisualize_state\u001b[0;34m(matrix)\u001b[0m\n\u001b[1;32m     19\u001b[0m   \u001b[0mim1\u001b[0m \u001b[0;34m=\u001b[0m \u001b[0max\u001b[0m\u001b[0;34m.\u001b[0m\u001b[0mimshow\u001b[0m\u001b[0;34m(\u001b[0m\u001b[0mmatrix\u001b[0m\u001b[0;34m[\u001b[0m\u001b[0;36m1\u001b[0m\u001b[0;34m,\u001b[0m\u001b[0;34m:\u001b[0m\u001b[0;34m,\u001b[0m\u001b[0;34m:\u001b[0m\u001b[0;34m]\u001b[0m\u001b[0;34m,\u001b[0m \u001b[0minterpolation\u001b[0m\u001b[0;34m=\u001b[0m\u001b[0;34m'none'\u001b[0m\u001b[0;34m,\u001b[0m\u001b[0mcmap\u001b[0m\u001b[0;34m=\u001b[0m\u001b[0mcolors\u001b[0m\u001b[0;34m.\u001b[0m\u001b[0mListedColormap\u001b[0m\u001b[0;34m(\u001b[0m\u001b[0mgreens\u001b[0m\u001b[0;34m)\u001b[0m\u001b[0;34m)\u001b[0m\u001b[0;34m\u001b[0m\u001b[0;34m\u001b[0m\u001b[0m\n\u001b[1;32m     20\u001b[0m   \u001b[0mim2\u001b[0m \u001b[0;34m=\u001b[0m \u001b[0max\u001b[0m\u001b[0;34m.\u001b[0m\u001b[0mimshow\u001b[0m\u001b[0;34m(\u001b[0m\u001b[0mmatrix\u001b[0m\u001b[0;34m[\u001b[0m\u001b[0;36m0\u001b[0m\u001b[0;34m,\u001b[0m\u001b[0;34m:\u001b[0m\u001b[0;34m,\u001b[0m\u001b[0;34m:\u001b[0m\u001b[0;34m]\u001b[0m\u001b[0;34m,\u001b[0m \u001b[0minterpolation\u001b[0m\u001b[0;34m=\u001b[0m\u001b[0;34m'none'\u001b[0m\u001b[0;34m,\u001b[0m\u001b[0mcmap\u001b[0m\u001b[0;34m=\u001b[0m\u001b[0mcolors\u001b[0m\u001b[0;34m.\u001b[0m\u001b[0mListedColormap\u001b[0m\u001b[0;34m(\u001b[0m\u001b[0mcustom_map\u001b[0m\u001b[0;34m)\u001b[0m\u001b[0;34m)\u001b[0m \u001b[0;31m#RdPu\u001b[0m\u001b[0;34m\u001b[0m\u001b[0;34m\u001b[0m\u001b[0m\n\u001b[0;32m---> 21\u001b[0;31m   \u001b[0mplt\u001b[0m\u001b[0;34m.\u001b[0m\u001b[0mshow\u001b[0m\u001b[0;34m(\u001b[0m\u001b[0;34m)\u001b[0m\u001b[0;34m\u001b[0m\u001b[0;34m\u001b[0m\u001b[0m\n\u001b[0m",
            "\u001b[0;32m/usr/local/lib/python3.7/dist-packages/matplotlib/pyplot.py\u001b[0m in \u001b[0;36mshow\u001b[0;34m(*args, **kw)\u001b[0m\n\u001b[1;32m    270\u001b[0m     \"\"\"\n\u001b[1;32m    271\u001b[0m     \u001b[0;32mglobal\u001b[0m \u001b[0m_show\u001b[0m\u001b[0;34m\u001b[0m\u001b[0;34m\u001b[0m\u001b[0m\n\u001b[0;32m--> 272\u001b[0;31m     \u001b[0;32mreturn\u001b[0m \u001b[0m_show\u001b[0m\u001b[0;34m(\u001b[0m\u001b[0;34m*\u001b[0m\u001b[0margs\u001b[0m\u001b[0;34m,\u001b[0m \u001b[0;34m**\u001b[0m\u001b[0mkw\u001b[0m\u001b[0;34m)\u001b[0m\u001b[0;34m\u001b[0m\u001b[0;34m\u001b[0m\u001b[0m\n\u001b[0m\u001b[1;32m    273\u001b[0m \u001b[0;34m\u001b[0m\u001b[0m\n\u001b[1;32m    274\u001b[0m \u001b[0;34m\u001b[0m\u001b[0m\n",
            "\u001b[0;32m/usr/local/lib/python3.7/dist-packages/ipykernel/pylab/backend_inline.py\u001b[0m in \u001b[0;36mshow\u001b[0;34m(close, block)\u001b[0m\n\u001b[1;32m     37\u001b[0m             display(\n\u001b[1;32m     38\u001b[0m                 \u001b[0mfigure_manager\u001b[0m\u001b[0;34m.\u001b[0m\u001b[0mcanvas\u001b[0m\u001b[0;34m.\u001b[0m\u001b[0mfigure\u001b[0m\u001b[0;34m,\u001b[0m\u001b[0;34m\u001b[0m\u001b[0;34m\u001b[0m\u001b[0m\n\u001b[0;32m---> 39\u001b[0;31m                 \u001b[0mmetadata\u001b[0m\u001b[0;34m=\u001b[0m\u001b[0m_fetch_figure_metadata\u001b[0m\u001b[0;34m(\u001b[0m\u001b[0mfigure_manager\u001b[0m\u001b[0;34m.\u001b[0m\u001b[0mcanvas\u001b[0m\u001b[0;34m.\u001b[0m\u001b[0mfigure\u001b[0m\u001b[0;34m)\u001b[0m\u001b[0;34m\u001b[0m\u001b[0;34m\u001b[0m\u001b[0m\n\u001b[0m\u001b[1;32m     40\u001b[0m             )\n\u001b[1;32m     41\u001b[0m     \u001b[0;32mfinally\u001b[0m\u001b[0;34m:\u001b[0m\u001b[0;34m\u001b[0m\u001b[0;34m\u001b[0m\u001b[0m\n",
            "\u001b[0;32m/usr/local/lib/python3.7/dist-packages/IPython/core/display.py\u001b[0m in \u001b[0;36mdisplay\u001b[0;34m(*objs, **kwargs)\u001b[0m\n\u001b[1;32m    304\u001b[0m             \u001b[0mpublish_display_data\u001b[0m\u001b[0;34m(\u001b[0m\u001b[0mdata\u001b[0m\u001b[0;34m=\u001b[0m\u001b[0mobj\u001b[0m\u001b[0;34m,\u001b[0m \u001b[0mmetadata\u001b[0m\u001b[0;34m=\u001b[0m\u001b[0mmetadata\u001b[0m\u001b[0;34m,\u001b[0m \u001b[0;34m**\u001b[0m\u001b[0mkwargs\u001b[0m\u001b[0;34m)\u001b[0m\u001b[0;34m\u001b[0m\u001b[0;34m\u001b[0m\u001b[0m\n\u001b[1;32m    305\u001b[0m         \u001b[0;32melse\u001b[0m\u001b[0;34m:\u001b[0m\u001b[0;34m\u001b[0m\u001b[0;34m\u001b[0m\u001b[0m\n\u001b[0;32m--> 306\u001b[0;31m             \u001b[0mformat_dict\u001b[0m\u001b[0;34m,\u001b[0m \u001b[0mmd_dict\u001b[0m \u001b[0;34m=\u001b[0m \u001b[0mformat\u001b[0m\u001b[0;34m(\u001b[0m\u001b[0mobj\u001b[0m\u001b[0;34m,\u001b[0m \u001b[0minclude\u001b[0m\u001b[0;34m=\u001b[0m\u001b[0minclude\u001b[0m\u001b[0;34m,\u001b[0m \u001b[0mexclude\u001b[0m\u001b[0;34m=\u001b[0m\u001b[0mexclude\u001b[0m\u001b[0;34m)\u001b[0m\u001b[0;34m\u001b[0m\u001b[0;34m\u001b[0m\u001b[0m\n\u001b[0m\u001b[1;32m    307\u001b[0m             \u001b[0;32mif\u001b[0m \u001b[0;32mnot\u001b[0m \u001b[0mformat_dict\u001b[0m\u001b[0;34m:\u001b[0m\u001b[0;34m\u001b[0m\u001b[0;34m\u001b[0m\u001b[0m\n\u001b[1;32m    308\u001b[0m                 \u001b[0;31m# nothing to display (e.g. _ipython_display_ took over)\u001b[0m\u001b[0;34m\u001b[0m\u001b[0;34m\u001b[0m\u001b[0;34m\u001b[0m\u001b[0m\n",
            "\u001b[0;32m/usr/local/lib/python3.7/dist-packages/IPython/core/formatters.py\u001b[0m in \u001b[0;36mformat\u001b[0;34m(self, obj, include, exclude)\u001b[0m\n\u001b[1;32m    171\u001b[0m             \u001b[0mmd\u001b[0m \u001b[0;34m=\u001b[0m \u001b[0;32mNone\u001b[0m\u001b[0;34m\u001b[0m\u001b[0;34m\u001b[0m\u001b[0m\n\u001b[1;32m    172\u001b[0m             \u001b[0;32mtry\u001b[0m\u001b[0;34m:\u001b[0m\u001b[0;34m\u001b[0m\u001b[0;34m\u001b[0m\u001b[0m\n\u001b[0;32m--> 173\u001b[0;31m                 \u001b[0mdata\u001b[0m \u001b[0;34m=\u001b[0m \u001b[0mformatter\u001b[0m\u001b[0;34m(\u001b[0m\u001b[0mobj\u001b[0m\u001b[0;34m)\u001b[0m\u001b[0;34m\u001b[0m\u001b[0;34m\u001b[0m\u001b[0m\n\u001b[0m\u001b[1;32m    174\u001b[0m             \u001b[0;32mexcept\u001b[0m\u001b[0;34m:\u001b[0m\u001b[0;34m\u001b[0m\u001b[0;34m\u001b[0m\u001b[0m\n\u001b[1;32m    175\u001b[0m                 \u001b[0;31m# FIXME: log the exception\u001b[0m\u001b[0;34m\u001b[0m\u001b[0;34m\u001b[0m\u001b[0;34m\u001b[0m\u001b[0m\n",
            "\u001b[0;32m<decorator-gen-2>\u001b[0m in \u001b[0;36m__call__\u001b[0;34m(self, obj)\u001b[0m\n",
            "\u001b[0;32m/usr/local/lib/python3.7/dist-packages/IPython/core/formatters.py\u001b[0m in \u001b[0;36mcatch_format_error\u001b[0;34m(method, self, *args, **kwargs)\u001b[0m\n\u001b[1;32m    215\u001b[0m     \u001b[0;34m\"\"\"show traceback on failed format call\"\"\"\u001b[0m\u001b[0;34m\u001b[0m\u001b[0;34m\u001b[0m\u001b[0m\n\u001b[1;32m    216\u001b[0m     \u001b[0;32mtry\u001b[0m\u001b[0;34m:\u001b[0m\u001b[0;34m\u001b[0m\u001b[0;34m\u001b[0m\u001b[0m\n\u001b[0;32m--> 217\u001b[0;31m         \u001b[0mr\u001b[0m \u001b[0;34m=\u001b[0m \u001b[0mmethod\u001b[0m\u001b[0;34m(\u001b[0m\u001b[0mself\u001b[0m\u001b[0;34m,\u001b[0m \u001b[0;34m*\u001b[0m\u001b[0margs\u001b[0m\u001b[0;34m,\u001b[0m \u001b[0;34m**\u001b[0m\u001b[0mkwargs\u001b[0m\u001b[0;34m)\u001b[0m\u001b[0;34m\u001b[0m\u001b[0;34m\u001b[0m\u001b[0m\n\u001b[0m\u001b[1;32m    218\u001b[0m     \u001b[0;32mexcept\u001b[0m \u001b[0mNotImplementedError\u001b[0m\u001b[0;34m:\u001b[0m\u001b[0;34m\u001b[0m\u001b[0;34m\u001b[0m\u001b[0m\n\u001b[1;32m    219\u001b[0m         \u001b[0;31m# don't warn on NotImplementedErrors\u001b[0m\u001b[0;34m\u001b[0m\u001b[0;34m\u001b[0m\u001b[0;34m\u001b[0m\u001b[0m\n",
            "\u001b[0;32m/usr/local/lib/python3.7/dist-packages/IPython/core/formatters.py\u001b[0m in \u001b[0;36m__call__\u001b[0;34m(self, obj)\u001b[0m\n\u001b[1;32m    332\u001b[0m                 \u001b[0;32mpass\u001b[0m\u001b[0;34m\u001b[0m\u001b[0;34m\u001b[0m\u001b[0m\n\u001b[1;32m    333\u001b[0m             \u001b[0;32melse\u001b[0m\u001b[0;34m:\u001b[0m\u001b[0;34m\u001b[0m\u001b[0;34m\u001b[0m\u001b[0m\n\u001b[0;32m--> 334\u001b[0;31m                 \u001b[0;32mreturn\u001b[0m \u001b[0mprinter\u001b[0m\u001b[0;34m(\u001b[0m\u001b[0mobj\u001b[0m\u001b[0;34m)\u001b[0m\u001b[0;34m\u001b[0m\u001b[0;34m\u001b[0m\u001b[0m\n\u001b[0m\u001b[1;32m    335\u001b[0m             \u001b[0;31m# Finally look for special method names\u001b[0m\u001b[0;34m\u001b[0m\u001b[0;34m\u001b[0m\u001b[0;34m\u001b[0m\u001b[0m\n\u001b[1;32m    336\u001b[0m             \u001b[0mmethod\u001b[0m \u001b[0;34m=\u001b[0m \u001b[0mget_real_method\u001b[0m\u001b[0;34m(\u001b[0m\u001b[0mobj\u001b[0m\u001b[0;34m,\u001b[0m \u001b[0mself\u001b[0m\u001b[0;34m.\u001b[0m\u001b[0mprint_method\u001b[0m\u001b[0;34m)\u001b[0m\u001b[0;34m\u001b[0m\u001b[0;34m\u001b[0m\u001b[0m\n",
            "\u001b[0;32m/usr/local/lib/python3.7/dist-packages/IPython/core/pylabtools.py\u001b[0m in \u001b[0;36m<lambda>\u001b[0;34m(fig)\u001b[0m\n\u001b[1;32m    239\u001b[0m \u001b[0;34m\u001b[0m\u001b[0m\n\u001b[1;32m    240\u001b[0m     \u001b[0;32mif\u001b[0m \u001b[0;34m'png'\u001b[0m \u001b[0;32min\u001b[0m \u001b[0mformats\u001b[0m\u001b[0;34m:\u001b[0m\u001b[0;34m\u001b[0m\u001b[0;34m\u001b[0m\u001b[0m\n\u001b[0;32m--> 241\u001b[0;31m         \u001b[0mpng_formatter\u001b[0m\u001b[0;34m.\u001b[0m\u001b[0mfor_type\u001b[0m\u001b[0;34m(\u001b[0m\u001b[0mFigure\u001b[0m\u001b[0;34m,\u001b[0m \u001b[0;32mlambda\u001b[0m \u001b[0mfig\u001b[0m\u001b[0;34m:\u001b[0m \u001b[0mprint_figure\u001b[0m\u001b[0;34m(\u001b[0m\u001b[0mfig\u001b[0m\u001b[0;34m,\u001b[0m \u001b[0;34m'png'\u001b[0m\u001b[0;34m,\u001b[0m \u001b[0;34m**\u001b[0m\u001b[0mkwargs\u001b[0m\u001b[0;34m)\u001b[0m\u001b[0;34m)\u001b[0m\u001b[0;34m\u001b[0m\u001b[0;34m\u001b[0m\u001b[0m\n\u001b[0m\u001b[1;32m    242\u001b[0m     \u001b[0;32mif\u001b[0m \u001b[0;34m'retina'\u001b[0m \u001b[0;32min\u001b[0m \u001b[0mformats\u001b[0m \u001b[0;32mor\u001b[0m \u001b[0;34m'png2x'\u001b[0m \u001b[0;32min\u001b[0m \u001b[0mformats\u001b[0m\u001b[0;34m:\u001b[0m\u001b[0;34m\u001b[0m\u001b[0;34m\u001b[0m\u001b[0m\n\u001b[1;32m    243\u001b[0m         \u001b[0mpng_formatter\u001b[0m\u001b[0;34m.\u001b[0m\u001b[0mfor_type\u001b[0m\u001b[0;34m(\u001b[0m\u001b[0mFigure\u001b[0m\u001b[0;34m,\u001b[0m \u001b[0;32mlambda\u001b[0m \u001b[0mfig\u001b[0m\u001b[0;34m:\u001b[0m \u001b[0mretina_figure\u001b[0m\u001b[0;34m(\u001b[0m\u001b[0mfig\u001b[0m\u001b[0;34m,\u001b[0m \u001b[0;34m**\u001b[0m\u001b[0mkwargs\u001b[0m\u001b[0;34m)\u001b[0m\u001b[0;34m)\u001b[0m\u001b[0;34m\u001b[0m\u001b[0;34m\u001b[0m\u001b[0m\n",
            "\u001b[0;32m/usr/local/lib/python3.7/dist-packages/IPython/core/pylabtools.py\u001b[0m in \u001b[0;36mprint_figure\u001b[0;34m(fig, fmt, bbox_inches, **kwargs)\u001b[0m\n\u001b[1;32m    123\u001b[0m \u001b[0;34m\u001b[0m\u001b[0m\n\u001b[1;32m    124\u001b[0m     \u001b[0mbytes_io\u001b[0m \u001b[0;34m=\u001b[0m \u001b[0mBytesIO\u001b[0m\u001b[0;34m(\u001b[0m\u001b[0;34m)\u001b[0m\u001b[0;34m\u001b[0m\u001b[0;34m\u001b[0m\u001b[0m\n\u001b[0;32m--> 125\u001b[0;31m     \u001b[0mfig\u001b[0m\u001b[0;34m.\u001b[0m\u001b[0mcanvas\u001b[0m\u001b[0;34m.\u001b[0m\u001b[0mprint_figure\u001b[0m\u001b[0;34m(\u001b[0m\u001b[0mbytes_io\u001b[0m\u001b[0;34m,\u001b[0m \u001b[0;34m**\u001b[0m\u001b[0mkw\u001b[0m\u001b[0;34m)\u001b[0m\u001b[0;34m\u001b[0m\u001b[0;34m\u001b[0m\u001b[0m\n\u001b[0m\u001b[1;32m    126\u001b[0m     \u001b[0mdata\u001b[0m \u001b[0;34m=\u001b[0m \u001b[0mbytes_io\u001b[0m\u001b[0;34m.\u001b[0m\u001b[0mgetvalue\u001b[0m\u001b[0;34m(\u001b[0m\u001b[0;34m)\u001b[0m\u001b[0;34m\u001b[0m\u001b[0;34m\u001b[0m\u001b[0m\n\u001b[1;32m    127\u001b[0m     \u001b[0;32mif\u001b[0m \u001b[0mfmt\u001b[0m \u001b[0;34m==\u001b[0m \u001b[0;34m'svg'\u001b[0m\u001b[0;34m:\u001b[0m\u001b[0;34m\u001b[0m\u001b[0;34m\u001b[0m\u001b[0m\n",
            "\u001b[0;32m/usr/local/lib/python3.7/dist-packages/matplotlib/backend_bases.py\u001b[0m in \u001b[0;36mprint_figure\u001b[0;34m(self, filename, dpi, facecolor, edgecolor, orientation, format, bbox_inches, **kwargs)\u001b[0m\n\u001b[1;32m   2124\u001b[0m                     \u001b[0morientation\u001b[0m\u001b[0;34m=\u001b[0m\u001b[0morientation\u001b[0m\u001b[0;34m,\u001b[0m\u001b[0;34m\u001b[0m\u001b[0;34m\u001b[0m\u001b[0m\n\u001b[1;32m   2125\u001b[0m                     \u001b[0mbbox_inches_restore\u001b[0m\u001b[0;34m=\u001b[0m\u001b[0m_bbox_inches_restore\u001b[0m\u001b[0;34m,\u001b[0m\u001b[0;34m\u001b[0m\u001b[0;34m\u001b[0m\u001b[0m\n\u001b[0;32m-> 2126\u001b[0;31m                     **kwargs)\n\u001b[0m\u001b[1;32m   2127\u001b[0m             \u001b[0;32mfinally\u001b[0m\u001b[0;34m:\u001b[0m\u001b[0;34m\u001b[0m\u001b[0;34m\u001b[0m\u001b[0m\n\u001b[1;32m   2128\u001b[0m                 \u001b[0;32mif\u001b[0m \u001b[0mbbox_inches\u001b[0m \u001b[0;32mand\u001b[0m \u001b[0mrestore_bbox\u001b[0m\u001b[0;34m:\u001b[0m\u001b[0;34m\u001b[0m\u001b[0;34m\u001b[0m\u001b[0m\n",
            "\u001b[0;32m/usr/local/lib/python3.7/dist-packages/matplotlib/backends/backend_agg.py\u001b[0m in \u001b[0;36mprint_png\u001b[0;34m(self, filename_or_obj, metadata, pil_kwargs, *args, **kwargs)\u001b[0m\n\u001b[1;32m    535\u001b[0m             \u001b[0;32mwith\u001b[0m \u001b[0mcbook\u001b[0m\u001b[0;34m.\u001b[0m\u001b[0mopen_file_cm\u001b[0m\u001b[0;34m(\u001b[0m\u001b[0mfilename_or_obj\u001b[0m\u001b[0;34m,\u001b[0m \u001b[0;34m\"wb\"\u001b[0m\u001b[0;34m)\u001b[0m \u001b[0;32mas\u001b[0m \u001b[0mfh\u001b[0m\u001b[0;34m:\u001b[0m\u001b[0;34m\u001b[0m\u001b[0;34m\u001b[0m\u001b[0m\n\u001b[1;32m    536\u001b[0m                 _png.write_png(renderer._renderer, fh, self.figure.dpi,\n\u001b[0;32m--> 537\u001b[0;31m                                metadata={**default_metadata, **metadata})\n\u001b[0m\u001b[1;32m    538\u001b[0m \u001b[0;34m\u001b[0m\u001b[0m\n\u001b[1;32m    539\u001b[0m     \u001b[0;32mdef\u001b[0m \u001b[0mprint_to_buffer\u001b[0m\u001b[0;34m(\u001b[0m\u001b[0mself\u001b[0m\u001b[0;34m)\u001b[0m\u001b[0;34m:\u001b[0m\u001b[0;34m\u001b[0m\u001b[0;34m\u001b[0m\u001b[0m\n",
            "\u001b[0;31mKeyboardInterrupt\u001b[0m: "
          ]
        }
      ]
    },
    {
      "cell_type": "markdown",
      "source": [
        "## Analyse results"
      ],
      "metadata": {
        "id": "x4VB4PxDq3-6"
      }
    },
    {
      "cell_type": "code",
      "source": [
        "# percentage of vegetation burned\n",
        "burned_cells = [] # ignited, burning, ash or burned: list of lists\n",
        "\n",
        "# each element is for each epoch, and each inner list is the percentage every 10 steps of that epoch\n",
        "for epoch in range(epochs):\n",
        "  temp = []\n",
        "  for step in range(steps):\n",
        "    if step%10 == 0:\n",
        "      temp.append(count_veg(x[epoch,step,:,:])/num_veg[epoch])\n",
        "  burned_cells.append(temp)\n",
        "\n",
        "#print(np.array(burned_cells), num_veg)\n",
        "np.save(f'percentages_veg_{veg}_hum_{hum}.npy', burned_cells)"
      ],
      "metadata": {
        "id": "TIBjrDMwq8Xs"
      },
      "execution_count": null,
      "outputs": []
    },
    {
      "cell_type": "markdown",
      "source": [
        "# Plots"
      ],
      "metadata": {
        "id": "vgsZ5DMdYeCo"
      }
    },
    {
      "cell_type": "code",
      "source": [
        "perc0=np.load('percentages_veg_low_hum_20.npy')\n",
        "perc1=np.load('percentages_veg_mid_hum_20.npy')\n",
        "perc2=np.load('percentages_veg_high_hum_20.npy')\n",
        "perc=[perc0,perc1,perc2]\n",
        "labels=['Low','Medium','High']\n",
        "\n",
        "for j in range(3):\n",
        "  means=[0]*25\n",
        "  for i in range(25):\n",
        "    means[i]=np.mean(perc[j][:,i].mean())\n",
        "  print(means[24])\n",
        "  time=np.arange(10, 250+1, 10)\n",
        "  plt.plot(time,means,label=labels[j])\n",
        "ax = plt.gca()\n",
        "ax.set_ylim([0, 1])\n",
        "plt.xlabel('Steps')\n",
        "plt.ylabel('Percentage of burned cells')\n",
        "plt.legend(title='Vegetation')\n",
        "plt.show()"
      ],
      "metadata": {
        "id": "1IFd4IXNYht_",
        "colab": {
          "base_uri": "https://localhost:8080/",
          "height": 337
        },
        "outputId": "3418fe8a-221e-46db-fb8a-483a50bb076b"
      },
      "execution_count": null,
      "outputs": [
        {
          "output_type": "stream",
          "name": "stdout",
          "text": [
            "0.9174933838342044\n",
            "0.9827349999999999\n",
            "0.9386299999999999\n"
          ]
        },
        {
          "output_type": "display_data",
          "data": {
            "text/plain": [
              "<Figure size 432x288 with 1 Axes>"
            ],
            "image/png": "[encoded data removed]"
          },
          "metadata": {
            "needs_background": "light"
          }
        }
      ]
    },
    {
      "cell_type": "code",
      "source": [
        "perc0=np.load('percentages_veg_low_hum_50.npy')\n",
        "perc1=np.load('percentages_veg_mid_hum_50.npy')\n",
        "perc2=np.load('percentages_veg_high_hum_50.npy')\n",
        "perc=[perc0,perc1,perc2]\n",
        "labels=['Low','Medium','High']\n",
        "\n",
        "for j in range(3):\n",
        "  means=[0]*25\n",
        "  for i in range(25):\n",
        "    means[i]=np.mean(perc[j][:,i].mean())\n",
        "  print(means[24])\n",
        "  time=np.arange(10, 250+1, 10)\n",
        "  plt.plot(time,means,label=labels[j])\n",
        "ax = plt.gca()\n",
        "ax.set_ylim([0, 1])\n",
        "plt.xlabel('Steps')\n",
        "plt.ylabel('Percentage of burned cells')\n",
        "plt.legend(title='Vegetation')\n",
        "plt.show()"
      ],
      "metadata": {
        "id": "L7Tg1MkLYrz3",
        "colab": {
          "base_uri": "https://localhost:8080/",
          "height": 337
        },
        "outputId": "c277f0f7-b7a3-4def-d3d6-2f0ceb95b97f"
      },
      "execution_count": null,
      "outputs": [
        {
          "output_type": "stream",
          "name": "stdout",
          "text": [
            "0.19731738961694922\n",
            "0.831205\n",
            "0.835135\n"
          ]
        },
        {
          "output_type": "display_data",
          "data": {
            "text/plain": [
              "<Figure size 432x288 with 1 Axes>"
            ],
            "image/png": "[encoded data removed]"
          },
          "metadata": {
            "needs_background": "light"
          }
        }
      ]
    },
    {
      "cell_type": "code",
      "source": [
        "perc0=np.load('percentages_veg_low_hum_70.npy')\n",
        "perc1=np.load('percentages_veg_mid_hum_70.npy')\n",
        "perc2=np.load('percentages_veg_high_hum_70.npy')\n",
        "perc=[perc0,perc1,perc2]\n",
        "labels=['Low','Medium','High']\n",
        "\n",
        "for j in range(3):\n",
        "  means=[0]*25\n",
        "  for i in range(25):\n",
        "    means[i]=np.mean(perc[j][:,i].mean())\n",
        "  print(means[24])\n",
        "  time=np.arange(10, 250+1, 10)\n",
        "  plt.plot(time,means,label=labels[j])\n",
        "ax = plt.gca()\n",
        "ax.set_ylim([0, 1])\n",
        "plt.xlabel('Steps')\n",
        "plt.ylabel('Percentage of burned cells')\n",
        "plt.legend(title='Vegetation')\n",
        "plt.show()"
      ],
      "metadata": {
        "id": "ZCbxTLoAYwrl",
        "colab": {
          "base_uri": "https://localhost:8080/",
          "height": 337
        },
        "outputId": "1c2fa18f-92a2-43a6-bd5b-58ca250dde4a"
      },
      "execution_count": null,
      "outputs": [
        {
          "output_type": "stream",
          "name": "stdout",
          "text": [
            "0.2090749438415998\n",
            "0.7798849999999999\n",
            "0.9824449999999999\n"
          ]
        },
        {
          "output_type": "display_data",
          "data": {
            "text/plain": [
              "<Figure size 432x288 with 1 Axes>"
            ],
            "image/png": "[encoded data removed]"
          },
          "metadata": {
            "needs_background": "light"
          }
        }
      ]
    },
    {
      "cell_type": "markdown",
      "source": [
        "## Temporal tests"
      ],
      "metadata": {
        "id": "YxnEv6fArCjC"
      }
    },
    {
      "cell_type": "markdown",
      "source": [
        "Code from https://github.com/IlievskiV/Amusive-Blogging-N-Coding/blob/master/Cellular%20Automata/cellular_automata.ipynb \\\\\n",
        "Explanation https://towardsdatascience.com/simple-but-stunning-animated-cellular-automata-in-python-c912e0c156a9"
      ],
      "metadata": {
        "id": "HuJDhssss4Ga"
      }
    }
  ]
}